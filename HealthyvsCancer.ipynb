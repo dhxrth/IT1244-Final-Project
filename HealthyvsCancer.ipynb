{
 "cells": [
  {
   "cell_type": "markdown",
   "metadata": {},
   "source": [
    "Preprocessing for Cancer vs Healthy"
   ]
  },
  {
   "cell_type": "markdown",
   "metadata": {},
   "source": [
    "Import operating system, numpy, pandas, matplotlib, statsmodels, random libraries"
   ]
  },
  {
   "cell_type": "code",
   "execution_count": 1,
   "metadata": {},
   "outputs": [],
   "source": [
    "import numpy as np \n",
    "import pandas as pd \n",
    "import matplotlib as mp \n",
    "import statsmodels.api as sm \n",
    "import random"
   ]
  },
  {
   "cell_type": "markdown",
   "metadata": {},
   "source": [
    "Set seed to ensure reproducability"
   ]
  },
  {
   "cell_type": "code",
   "execution_count": 2,
   "metadata": {},
   "outputs": [],
   "source": [
    "random.seed(123)"
   ]
  },
  {
   "cell_type": "markdown",
   "metadata": {},
   "source": [
    "Load train and test datatsets and carry out visualisation"
   ]
  },
  {
   "cell_type": "code",
   "execution_count": null,
   "metadata": {},
   "outputs": [],
   "source": [
    "trainp_data = pd.read_csv('Train_Set.csv') \n",
    "testp_data = pd.read_csv('Test_Set.csv')\n",
    "print(trainp_data.head(5)) # information on first five data points\n",
    "print(testp_data.head(5)) # information on first five data points\n",
    "print(trainp_data.shape) # dimensions of train data set\n",
    "print(testp_data.shape) # dimensions of test data set\n",
    "print(trainp_data.describe()) # statistical information on train data set\n",
    "print(testp_data.describe()) # statistical information on test data set"
   ]
  },
  {
   "cell_type": "markdown",
   "metadata": {},
   "source": [
    "Check for missing data points in train and test data"
   ]
  },
  {
   "cell_type": "code",
   "execution_count": null,
   "metadata": {},
   "outputs": [],
   "source": [
    "print(trainp_data.isna().sum()) # check how many data points missing\n",
    "print(trainp_data.iloc[:, -1]) # view response variable (status of cancer)\n",
    "print(trainp_data['class_label'].value_counts()) # inspect distribution of response variable (status of cancer)\n",
    "print(testp_data.isna().sum()) # check how many data points missing\n",
    "print(testp_data.iloc[:, -1]) # view response variable (status of cancer)\n",
    "print(testp_data['class_label'].value_counts()) # inspect distribution of response variable (status of cancer)"
   ]
  },
  {
   "cell_type": "markdown",
   "metadata": {},
   "source": [
    "Merge different cancer classes together into cancer class in test and train dataset"
   ]
  },
  {
   "cell_type": "code",
   "execution_count": 5,
   "metadata": {},
   "outputs": [
    {
     "name": "stdout",
     "output_type": "stream",
     "text": [
      "class_label\n",
      "cancer     2133\n",
      "healthy      60\n",
      "Name: count, dtype: int64\n",
      "class_label\n",
      "cancer     993\n",
      "healthy     41\n",
      "Name: count, dtype: int64\n"
     ]
    }
   ],
   "source": [
    "classes_to_merge = ['late stage cancer', 'mid stage cancer', 'screening stage cancer', 'early stage cancer'] # selecting cancer stages to merge\n",
    "new_class_label = \"cancer\" # new label\n",
    "trainp_data['class_label'] = trainp_data['class_label'].replace(classes_to_merge, new_class_label) # merge classes\n",
    "print(trainp_data['class_label'].value_counts()) \n",
    "testp_data['class_label'] = testp_data['class_label'].replace(classes_to_merge, new_class_label) # merge classes\n",
    "print(testp_data['class_label'].value_counts()) "
   ]
  },
  {
   "cell_type": "markdown",
   "metadata": {},
   "source": [
    "Extract independent and dependent features from train and test datasets "
   ]
  },
  {
   "cell_type": "code",
   "execution_count": 6,
   "metadata": {},
   "outputs": [],
   "source": [
    "xvals_train = trainp_data.iloc[:, 0:350] # access train x values\n",
    "yvals_train = trainp_data.iloc[:,350] # access train y values\n",
    "xvals_test = testp_data.iloc[:, 0:350] # access test x values\n",
    "yvals_test = testp_data.iloc[:, 350] # access test x values"
   ]
  },
  {
   "cell_type": "markdown",
   "metadata": {},
   "source": [
    "Standardising x values in train and test datatset"
   ]
  },
  {
   "cell_type": "code",
   "execution_count": 7,
   "metadata": {},
   "outputs": [],
   "source": [
    "from sklearn.preprocessing import StandardScaler \n",
    "std_x = StandardScaler() # initialise StandardScaler\n",
    "xvals_train_std = std_x.fit_transform(xvals_train) # standardise x values of train dataset\n",
    "xvals_test_std = std_x.fit_transform(xvals_test) # standardise x values of test dataset"
   ]
  },
  {
   "cell_type": "markdown",
   "metadata": {},
   "source": [
    "Convert y variables to binary for test and train data set as neccessary"
   ]
  },
  {
   "cell_type": "code",
   "execution_count": 8,
   "metadata": {},
   "outputs": [
    {
     "name": "stdout",
     "output_type": "stream",
     "text": [
      "[0 1]\n",
      "[0 1]\n"
     ]
    }
   ],
   "source": [
    "yvals_train_binary = yvals_train.map({'cancer': 1, 'healthy': 0}) # Convert \"cancer\" to 1 and \"healthy\" to 0\n",
    "print(yvals_train_binary.unique()) \n",
    "yvals_test_binary = yvals_test.map({'cancer': 1, 'healthy': 0}) # Convert \"cancer\" to 1 and \"healthy\" to 0\n",
    "print(yvals_train_binary.unique()) "
   ]
  },
  {
   "cell_type": "markdown",
   "metadata": {},
   "source": [
    "Technique to remove regressors:"
   ]
  },
  {
   "cell_type": "markdown",
   "metadata": {},
   "source": [
    "Perform L1 (lasso) regularisation to logistic regression model to idenitify insignifcant regressors with coefficients equals to zero"
   ]
  },
  {
   "cell_type": "code",
   "execution_count": 9,
   "metadata": {},
   "outputs": [
    {
     "name": "stdout",
     "output_type": "stream",
     "text": [
      "350\n",
      "['length_51', 'length_52', 'length_53', 'length_54', 'length_56', 'length_57', 'length_58', 'length_59', 'length_60', 'length_61', 'length_62', 'length_63', 'length_64', 'length_65', 'length_66', 'length_67', 'length_68', 'length_69', 'length_70', 'length_71', 'length_72', 'length_73', 'length_74', 'length_75', 'length_76', 'length_77', 'length_78', 'length_79', 'length_80', 'length_82', 'length_83', 'length_84', 'length_85', 'length_86', 'length_87', 'length_88', 'length_89', 'length_90', 'length_91', 'length_92', 'length_93', 'length_94', 'length_95', 'length_96', 'length_97', 'length_98', 'length_99', 'length_100', 'length_101', 'length_102', 'length_103', 'length_104', 'length_105', 'length_106', 'length_107', 'length_108', 'length_109', 'length_110', 'length_111', 'length_112', 'length_113', 'length_114', 'length_115', 'length_116', 'length_117', 'length_118', 'length_119', 'length_120', 'length_121', 'length_122', 'length_123', 'length_124', 'length_125', 'length_126', 'length_127', 'length_128', 'length_129', 'length_131', 'length_132', 'length_133', 'length_134', 'length_135', 'length_136', 'length_138', 'length_139', 'length_140', 'length_141', 'length_142', 'length_143', 'length_144', 'length_145', 'length_146', 'length_147', 'length_148', 'length_149', 'length_150', 'length_151', 'length_152', 'length_153', 'length_154', 'length_155', 'length_156', 'length_157', 'length_158', 'length_159', 'length_160', 'length_161', 'length_162', 'length_163', 'length_165', 'length_167', 'length_168', 'length_169', 'length_170', 'length_171', 'length_172', 'length_173', 'length_174', 'length_175', 'length_176', 'length_177', 'length_178', 'length_179', 'length_180', 'length_181', 'length_182', 'length_183', 'length_184', 'length_185', 'length_186', 'length_187', 'length_188', 'length_189', 'length_191', 'length_192', 'length_193', 'length_194', 'length_195', 'length_196', 'length_197', 'length_198', 'length_199', 'length_200', 'length_201', 'length_202', 'length_203', 'length_204', 'length_205', 'length_206', 'length_207', 'length_208', 'length_209', 'length_210', 'length_211', 'length_212', 'length_213', 'length_214', 'length_215', 'length_216', 'length_217', 'length_218', 'length_219', 'length_220', 'length_221', 'length_222', 'length_223', 'length_224', 'length_225', 'length_226', 'length_227', 'length_228', 'length_229', 'length_230', 'length_231', 'length_232', 'length_234', 'length_235', 'length_236', 'length_237', 'length_238', 'length_239', 'length_240', 'length_241', 'length_242', 'length_243', 'length_244', 'length_245', 'length_246', 'length_247', 'length_248', 'length_249', 'length_250', 'length_251', 'length_252', 'length_253', 'length_254', 'length_255', 'length_256', 'length_257', 'length_258', 'length_259', 'length_260', 'length_261', 'length_262', 'length_263', 'length_264', 'length_265', 'length_266', 'length_267', 'length_268', 'length_269', 'length_270', 'length_271', 'length_272', 'length_273', 'length_274', 'length_275', 'length_276', 'length_277', 'length_278', 'length_280', 'length_281', 'length_282', 'length_283', 'length_284', 'length_285', 'length_286', 'length_287', 'length_288', 'length_289', 'length_291', 'length_292', 'length_293', 'length_294', 'length_295', 'length_296', 'length_297', 'length_298', 'length_299', 'length_300', 'length_301', 'length_302', 'length_303', 'length_304', 'length_305', 'length_306', 'length_307', 'length_308', 'length_309', 'length_310', 'length_311', 'length_312', 'length_313', 'length_314', 'length_315', 'length_316', 'length_317', 'length_318', 'length_319', 'length_320', 'length_321', 'length_322', 'length_323', 'length_324', 'length_325', 'length_326', 'length_327', 'length_328', 'length_329', 'length_330', 'length_331', 'length_332', 'length_333', 'length_334', 'length_336', 'length_337', 'length_338', 'length_339', 'length_340', 'length_342', 'length_344', 'length_346', 'length_347', 'length_348', 'length_349', 'length_350', 'length_351', 'length_352', 'length_353', 'length_354', 'length_355', 'length_356', 'length_357', 'length_358', 'length_359', 'length_360', 'length_361', 'length_362', 'length_363', 'length_364', 'length_365', 'length_366', 'length_367', 'length_368', 'length_369', 'length_370', 'length_371', 'length_372', 'length_373', 'length_374', 'length_375', 'length_376', 'length_377', 'length_378', 'length_379', 'length_380', 'length_381', 'length_382', 'length_383', 'length_384', 'length_385', 'length_386', 'length_387', 'length_388', 'length_389', 'length_391', 'length_392', 'length_393', 'length_394', 'length_395', 'length_396', 'length_397', 'length_398', 'length_399', 'length_400']\n"
     ]
    }
   ],
   "source": [
    "from sklearn.linear_model import LogisticRegression\n",
    "log_reg_l1 = LogisticRegression(penalty='l1', solver='liblinear')  # specify solver for L1 regularization\n",
    "log_reg_l1.fit(xvals_train_std, yvals_train_binary)  # train model\n",
    "significant_features_1 = list(xvals_train.columns[log_reg_l1.coef_[0] != 0]) # check if there are any signifcant features identified\n",
    "insignificant_features_1 = list(xvals_train.columns[log_reg_l1.coef_[0] == 0]) # identify insignifcant features\n",
    "print(len(insignificant_features_1) + len(significant_features_1)) # check if total number of features is 350\n",
    "print(insignificant_features_1) # identify insiginficant features identified with this technique"
   ]
  },
  {
   "cell_type": "markdown",
   "metadata": {},
   "source": [
    "Perform principal component analysis to identify insignifcant regressors that contribute little to variance"
   ]
  },
  {
   "cell_type": "code",
   "execution_count": 10,
   "metadata": {},
   "outputs": [
    {
     "data": {
      "image/png": "[encoded data removed]",
      "text/plain": [
       "<Figure size 640x480 with 1 Axes>"
      ]
     },
     "metadata": {},
     "output_type": "display_data"
    }
   ],
   "source": [
    "from sklearn.decomposition import PCA \n",
    "pca = PCA() # initialise PCA with default parameters\n",
    "x_pca = pca.fit_transform(xvals_train_std) # compute principal components and transforms data into new feature space\n",
    "explained_variance_ratio = pca.explained_variance_ratio_  # Get explained variance ratio for each component\n",
    "cumulative_explained_variance_ratio = np.cumsum(explained_variance_ratio) # sum computed variance for certain number of components\n",
    "import matplotlib.pyplot as plt\n",
    "plt.plot(cumulative_explained_variance_ratio) # plot cumulative explained variance ratio\n",
    "plt.grid(True) # add grid to the plot\n",
    "plt.show() # show graph"
   ]
  },
  {
   "cell_type": "code",
   "execution_count": 11,
   "metadata": {},
   "outputs": [
    {
     "data": {
      "image/png": "[encoded data removed]",
      "text/plain": [
       "<Figure size 640x480 with 1 Axes>"
      ]
     },
     "metadata": {},
     "output_type": "display_data"
    }
   ],
   "source": [
    "chosen_num_components = 25  # plateu cannot be read accurately so limit x axis to [0,25] and plot again\n",
    "plt.plot(range(1, chosen_num_components + 1), cumulative_explained_variance_ratio[:chosen_num_components])\n",
    "plt.grid(True) # add grid to the plot\n",
    "plt.show() # plateu can be read "
   ]
  },
  {
   "cell_type": "code",
   "execution_count": 12,
   "metadata": {},
   "outputs": [],
   "source": [
    "chosen_num_components = 5 # there is little to no change in cumulative variance when more than 5 principal components are involved in calculations\n",
    "pca = PCA(n_components = chosen_num_components) # initialise new pca with no of components = 5\n",
    "x_pca = pca.fit_transform(xvals_train_std) # compute principal components and transforms data into new feature space"
   ]
  },
  {
   "cell_type": "code",
   "execution_count": 13,
   "metadata": {},
   "outputs": [
    {
     "name": "stdout",
     "output_type": "stream",
     "text": [
      "350\n",
      "['length_55', 'length_56', 'length_57', 'length_58', 'length_59', 'length_60', 'length_61', 'length_62', 'length_63', 'length_64', 'length_65', 'length_66', 'length_67', 'length_68', 'length_69', 'length_70', 'length_71', 'length_72', 'length_73', 'length_74', 'length_75', 'length_76', 'length_77', 'length_78', 'length_79', 'length_80', 'length_81', 'length_82', 'length_83', 'length_84', 'length_85', 'length_86', 'length_87', 'length_88', 'length_89', 'length_90', 'length_91', 'length_92', 'length_93', 'length_94', 'length_95', 'length_96', 'length_97', 'length_98', 'length_99', 'length_100', 'length_101', 'length_102', 'length_103', 'length_104', 'length_105', 'length_106', 'length_107', 'length_108', 'length_109', 'length_110', 'length_111', 'length_112', 'length_113', 'length_114', 'length_115', 'length_116', 'length_117', 'length_118', 'length_119', 'length_120', 'length_121', 'length_122', 'length_123', 'length_124', 'length_125', 'length_126', 'length_127', 'length_128', 'length_129', 'length_130', 'length_131', 'length_132', 'length_133', 'length_134', 'length_135', 'length_136', 'length_137', 'length_138', 'length_139', 'length_140', 'length_141', 'length_142', 'length_143', 'length_144', 'length_145', 'length_146', 'length_147', 'length_148', 'length_149', 'length_150', 'length_151', 'length_152', 'length_153', 'length_154', 'length_155', 'length_156', 'length_157', 'length_158', 'length_159', 'length_160', 'length_161', 'length_162', 'length_163', 'length_164', 'length_165', 'length_166', 'length_167', 'length_168', 'length_169', 'length_170', 'length_171', 'length_172', 'length_173', 'length_174', 'length_175', 'length_176', 'length_177', 'length_178', 'length_179', 'length_180', 'length_181', 'length_182', 'length_183', 'length_184', 'length_185', 'length_186', 'length_187', 'length_188', 'length_189', 'length_190', 'length_191', 'length_192', 'length_193', 'length_194', 'length_195', 'length_196', 'length_197', 'length_198', 'length_199', 'length_200', 'length_201', 'length_202', 'length_203', 'length_204', 'length_205', 'length_206', 'length_207', 'length_208', 'length_209', 'length_210', 'length_211', 'length_212', 'length_213', 'length_214', 'length_215', 'length_216', 'length_217', 'length_218', 'length_219', 'length_220', 'length_221', 'length_222', 'length_223', 'length_224', 'length_225', 'length_226', 'length_227', 'length_228', 'length_229', 'length_230', 'length_231', 'length_232', 'length_233', 'length_234', 'length_235', 'length_236', 'length_237', 'length_238', 'length_239', 'length_240', 'length_241', 'length_242', 'length_243', 'length_244', 'length_245', 'length_246', 'length_247', 'length_248', 'length_249', 'length_250', 'length_251', 'length_252', 'length_253', 'length_254', 'length_255', 'length_256', 'length_257', 'length_258', 'length_259', 'length_260', 'length_261', 'length_262', 'length_263', 'length_264', 'length_265', 'length_266', 'length_267', 'length_268', 'length_269', 'length_270', 'length_271', 'length_272', 'length_273', 'length_274', 'length_275', 'length_276', 'length_277', 'length_278', 'length_279', 'length_280', 'length_281', 'length_282', 'length_283', 'length_284', 'length_285', 'length_286', 'length_287', 'length_288', 'length_289', 'length_290', 'length_291', 'length_292', 'length_293', 'length_294', 'length_295', 'length_296', 'length_297', 'length_298', 'length_299', 'length_300', 'length_301', 'length_302', 'length_303', 'length_304', 'length_305', 'length_306', 'length_307', 'length_308', 'length_309', 'length_310', 'length_311', 'length_312', 'length_313', 'length_314', 'length_315', 'length_316', 'length_317', 'length_318', 'length_319', 'length_320', 'length_321', 'length_322', 'length_323', 'length_324', 'length_325', 'length_326', 'length_327', 'length_328', 'length_329', 'length_330', 'length_331', 'length_332', 'length_333', 'length_334', 'length_335', 'length_336', 'length_337', 'length_338', 'length_339', 'length_340', 'length_341', 'length_342', 'length_343', 'length_344', 'length_345', 'length_346', 'length_347', 'length_348', 'length_349', 'length_350', 'length_351', 'length_352', 'length_353', 'length_354', 'length_355', 'length_356', 'length_357', 'length_358', 'length_359', 'length_360', 'length_361', 'length_362', 'length_363', 'length_364', 'length_365', 'length_366', 'length_367', 'length_368', 'length_369', 'length_370', 'length_371', 'length_372', 'length_373', 'length_374', 'length_375', 'length_376', 'length_377', 'length_378', 'length_379', 'length_380', 'length_381', 'length_382', 'length_383', 'length_384', 'length_385', 'length_386', 'length_387', 'length_388', 'length_389', 'length_390', 'length_391', 'length_392', 'length_393', 'length_394', 'length_395', 'length_396', 'length_397', 'length_398', 'length_399', 'length_400']\n"
     ]
    }
   ],
   "source": [
    "original_features = xvals_train.columns # all features\n",
    "significant_feature_indices = np.where(cumulative_explained_variance_ratio <= 0.95)[0] # identify festures that are responsible for 95 percent of variance\n",
    "significant_features_2 = list(original_features[significant_feature_indices])\n",
    "insignificant_feature_indices = np.where(cumulative_explained_variance_ratio > 0.95)[0]\n",
    "insignificant_features_2 = list(original_features[insignificant_feature_indices])\n",
    "print(len(insignificant_features_2) + len(significant_features_2)) # check if total number of features is 350\n",
    "print(insignificant_features_2) # identify insiginficant features identified with this technique"
   ]
  },
  {
   "cell_type": "markdown",
   "metadata": {},
   "source": [
    "Perform recursive feature selection (RFE)"
   ]
  },
  {
   "cell_type": "code",
   "execution_count": null,
   "metadata": {},
   "outputs": [],
   "source": [
    "from sklearn.feature_selection import RFE\n",
    "from sklearn.linear_model import LogisticRegression # use logistic regression as estimator function to perfom RFE\n",
    "rfe = RFE(estimator=LogisticRegression(), n_features_to_select=5, verbose=1) # 5 features selected as idenitified from PCA earlier\n",
    "rfe.fit(xvals_train_std, yvals_train_binary) # identify rank of importance of features by comparing hyperparameters identified from the logistic regression model\n",
    "significant_features_3 = list(xvals_train.columns[rfe.support_])\n",
    "insignificant_features_3 = list(xvals_train.columns[~rfe.support_])\n",
    "print(len(insignificant_features_3) + len(significant_features_3)) # check if total number of features is 350\n",
    "print(insignificant_features_3) # identify insiginficant features identified with this technique\n",
    "\n"
   ]
  },
  {
   "cell_type": "markdown",
   "metadata": {},
   "source": [
    "Perform correlation analysis to identify insignifcant regressors that are are highly correlated"
   ]
  },
  {
   "cell_type": "code",
   "execution_count": 15,
   "metadata": {},
   "outputs": [],
   "source": [
    "correlation_matrix = xvals_train.corr() # find correlation coefficients between each pair of variables\n",
    "mask = np.triu(np.ones_like(correlation_matrix, dtype=bool)) # mask to consider only the upper triangular matrix and ignore correlation between the same variable. Output is true and false\n",
    "correlation_matrix = correlation_matrix.mask(mask) # apply mask to correlation matrix"
   ]
  },
  {
   "cell_type": "code",
   "execution_count": 16,
   "metadata": {},
   "outputs": [
    {
     "name": "stdout",
     "output_type": "stream",
     "text": [
      "[(0.7, 349), (0.71, 349), (0.72, 349), (0.73, 349), (0.74, 349), (0.75, 349), (0.76, 349), (0.77, 349), (0.78, 349), (0.79, 349), (0.8, 349), (0.81, 349), (0.82, 349), (0.83, 349), (0.84, 349), (0.85, 349), (0.86, 349), (0.87, 349), (0.88, 349), (0.89, 349), (0.9, 349), (0.91, 349), (0.92, 349), (0.93, 349), (0.94, 349), (0.95, 349), (0.96, 349), (0.97, 349), (0.98, 349), (0.99, 349), (1.0, 349)]\n"
     ]
    }
   ],
   "source": [
    "for i in range(len(correlation_matrix.columns)): # Loop through the columnns\n",
    "    for j in range(i): # Loop through the rows\n",
    "        significant_features_4 = list(xvals_train.columns)\n",
    "        insignificant_features_4 = []\n",
    "        lengths_of_significant_features = []\n",
    "        for threshold_int in range(70, 101):\n",
    "            threshold_float = threshold_int / 100.0\n",
    "            if abs(correlation_matrix.iloc[i, j]) > threshold_float:  # Adjust the threshold as needed. Set 0.8 here\n",
    "                colname_i = correlation_matrix.columns[i] # first compared feature\n",
    "                colname_j = correlation_matrix.columns[j] # second compared feature\n",
    "                if colname_i in significant_features_4:\n",
    "                    significant_features_4.remove(colname_i) # update the significant features\n",
    "                if colname_i not in insignificant_features_4:\n",
    "                    insignificant_features_4.append(colname_i) # update the siugnifcant features\n",
    "            lengths_of_significant_features.append((threshold_float, len(significant_features_4)))\n",
    "\n",
    "print(lengths_of_significant_features) # can be seen that the number of features do not change when threshold chosen bewteen 0.7 and 0.9. Therefore any threshold can be selected for this\n",
    "\n"
   ]
  },
  {
   "cell_type": "code",
   "execution_count": 17,
   "metadata": {},
   "outputs": [
    {
     "name": "stdout",
     "output_type": "stream",
     "text": [
      "350\n",
      "['length_400', 'length_52', 'length_53', 'length_54', 'length_55', 'length_56', 'length_57', 'length_58', 'length_59', 'length_60', 'length_61', 'length_62', 'length_63', 'length_64', 'length_65', 'length_66', 'length_67', 'length_68', 'length_69', 'length_70', 'length_71', 'length_72', 'length_73', 'length_74', 'length_75', 'length_76', 'length_77', 'length_78', 'length_79', 'length_80', 'length_81', 'length_82', 'length_83', 'length_84', 'length_85', 'length_86', 'length_87', 'length_88', 'length_89', 'length_90', 'length_91', 'length_92', 'length_93', 'length_94', 'length_95', 'length_96', 'length_97', 'length_98', 'length_99', 'length_100', 'length_101', 'length_102', 'length_103', 'length_104', 'length_105', 'length_106', 'length_107', 'length_108', 'length_109', 'length_110', 'length_111', 'length_112', 'length_113', 'length_114', 'length_115', 'length_116', 'length_117', 'length_118', 'length_119', 'length_120', 'length_121', 'length_122', 'length_123', 'length_124', 'length_125', 'length_126', 'length_127', 'length_128', 'length_129', 'length_130', 'length_131', 'length_132', 'length_133', 'length_134', 'length_135', 'length_136', 'length_137', 'length_138', 'length_139', 'length_140', 'length_141', 'length_142', 'length_143', 'length_144', 'length_145', 'length_146', 'length_147', 'length_148', 'length_149', 'length_150', 'length_151', 'length_152', 'length_153', 'length_154', 'length_155', 'length_156', 'length_157', 'length_158', 'length_159', 'length_160', 'length_161', 'length_162', 'length_163', 'length_164', 'length_165', 'length_168', 'length_169', 'length_170', 'length_171', 'length_172', 'length_173', 'length_174', 'length_175', 'length_176', 'length_177', 'length_178', 'length_179', 'length_180', 'length_181', 'length_182', 'length_183', 'length_184', 'length_185', 'length_186', 'length_187', 'length_188', 'length_189', 'length_190', 'length_191', 'length_192', 'length_193', 'length_194', 'length_195', 'length_196', 'length_197', 'length_198', 'length_199', 'length_200', 'length_201', 'length_202', 'length_203', 'length_204', 'length_205', 'length_206', 'length_207', 'length_208', 'length_209', 'length_210', 'length_211', 'length_212', 'length_213', 'length_214', 'length_215', 'length_216', 'length_217', 'length_218', 'length_219', 'length_220', 'length_221', 'length_222', 'length_223', 'length_224', 'length_225', 'length_226', 'length_227', 'length_228', 'length_229', 'length_230', 'length_231', 'length_232', 'length_233', 'length_234', 'length_235', 'length_236', 'length_237', 'length_238', 'length_239', 'length_240', 'length_241', 'length_242', 'length_243', 'length_244', 'length_245', 'length_246', 'length_247', 'length_248', 'length_249', 'length_250', 'length_251', 'length_252', 'length_253', 'length_254', 'length_255', 'length_256', 'length_257', 'length_258', 'length_259', 'length_260', 'length_261', 'length_262', 'length_263', 'length_264', 'length_265', 'length_266', 'length_267', 'length_268', 'length_269', 'length_270', 'length_271', 'length_272', 'length_273', 'length_274', 'length_275', 'length_276', 'length_277', 'length_278', 'length_279', 'length_280', 'length_281', 'length_282', 'length_283', 'length_284', 'length_285', 'length_286', 'length_287', 'length_288', 'length_289', 'length_290', 'length_291', 'length_292', 'length_293', 'length_294', 'length_295', 'length_296', 'length_297', 'length_298', 'length_299', 'length_300', 'length_301', 'length_302', 'length_303', 'length_304', 'length_305', 'length_306', 'length_307', 'length_308', 'length_309', 'length_310', 'length_311', 'length_312', 'length_313', 'length_314', 'length_315', 'length_316', 'length_317', 'length_318', 'length_319', 'length_320', 'length_321', 'length_322', 'length_323', 'length_324', 'length_325', 'length_326', 'length_327', 'length_328', 'length_329', 'length_330', 'length_331', 'length_332', 'length_333', 'length_334', 'length_335', 'length_336', 'length_337', 'length_338', 'length_339', 'length_340', 'length_341', 'length_342', 'length_343', 'length_344', 'length_345', 'length_346', 'length_347', 'length_348', 'length_349', 'length_350', 'length_351', 'length_352', 'length_353', 'length_354', 'length_355', 'length_356', 'length_357', 'length_358', 'length_359', 'length_360', 'length_361', 'length_362', 'length_363', 'length_364', 'length_365', 'length_366', 'length_367', 'length_368', 'length_369', 'length_370', 'length_371', 'length_372', 'length_373', 'length_374', 'length_375', 'length_376', 'length_377', 'length_378', 'length_379', 'length_380', 'length_381', 'length_382', 'length_383', 'length_384', 'length_385', 'length_386', 'length_387', 'length_388', 'length_389', 'length_390', 'length_391', 'length_392', 'length_393', 'length_394', 'length_395', 'length_396', 'length_397', 'length_398', 'length_399']\n"
     ]
    }
   ],
   "source": [
    "for i in range(len(correlation_matrix.columns)): # Loop through the columnns\n",
    "    for j in range(i): # Loop through the rows\n",
    "        if abs(correlation_matrix.iloc[i, j]) > 0.8:  # Adjust the threshold as needed. Set 0.8 here\n",
    "            colname_i = correlation_matrix.columns[i] # first compared feature\n",
    "            colname_j = correlation_matrix.columns[j] # second compared feature\n",
    "            if colname_i in significant_features_4:\n",
    "                significant_features_4.remove(colname_i) # update the significant features\n",
    "            if colname_i not in insignificant_features_4:\n",
    "                insignificant_features_4.append(colname_i) # update the siugnifcant features\n",
    "\n",
    "print(len(insignificant_features_4) + len(significant_features_4))\n",
    "print(insignificant_features_4)"
   ]
  },
  {
   "cell_type": "markdown",
   "metadata": {},
   "source": [
    "Decide which features to remove"
   ]
  },
  {
   "cell_type": "markdown",
   "metadata": {},
   "source": [
    "Check lengths of features to be removed"
   ]
  },
  {
   "cell_type": "code",
   "execution_count": 18,
   "metadata": {},
   "outputs": [
    {
     "data": {
      "text/plain": [
       "{'length_51': 2,\n",
       " 'length_52': 3,\n",
       " 'length_53': 3,\n",
       " 'length_54': 3,\n",
       " 'length_56': 4,\n",
       " 'length_57': 4,\n",
       " 'length_58': 4,\n",
       " 'length_59': 4,\n",
       " 'length_60': 4,\n",
       " 'length_61': 4,\n",
       " 'length_62': 4,\n",
       " 'length_63': 4,\n",
       " 'length_64': 4,\n",
       " 'length_65': 4,\n",
       " 'length_66': 4,\n",
       " 'length_67': 4,\n",
       " 'length_68': 4,\n",
       " 'length_69': 4,\n",
       " 'length_70': 4,\n",
       " 'length_71': 4,\n",
       " 'length_72': 4,\n",
       " 'length_73': 4,\n",
       " 'length_74': 4,\n",
       " 'length_75': 4,\n",
       " 'length_76': 4,\n",
       " 'length_77': 4,\n",
       " 'length_78': 4,\n",
       " 'length_79': 4,\n",
       " 'length_80': 4,\n",
       " 'length_82': 4,\n",
       " 'length_83': 4,\n",
       " 'length_84': 4,\n",
       " 'length_85': 4,\n",
       " 'length_86': 4,\n",
       " 'length_87': 4,\n",
       " 'length_88': 4,\n",
       " 'length_89': 4,\n",
       " 'length_90': 4,\n",
       " 'length_91': 4,\n",
       " 'length_92': 4,\n",
       " 'length_93': 4,\n",
       " 'length_94': 4,\n",
       " 'length_95': 4,\n",
       " 'length_96': 4,\n",
       " 'length_97': 4,\n",
       " 'length_98': 4,\n",
       " 'length_99': 4,\n",
       " 'length_100': 4,\n",
       " 'length_101': 4,\n",
       " 'length_102': 4,\n",
       " 'length_103': 4,\n",
       " 'length_104': 4,\n",
       " 'length_105': 4,\n",
       " 'length_106': 4,\n",
       " 'length_107': 4,\n",
       " 'length_108': 4,\n",
       " 'length_109': 4,\n",
       " 'length_110': 4,\n",
       " 'length_111': 4,\n",
       " 'length_112': 4,\n",
       " 'length_113': 4,\n",
       " 'length_114': 4,\n",
       " 'length_115': 4,\n",
       " 'length_116': 4,\n",
       " 'length_117': 4,\n",
       " 'length_118': 4,\n",
       " 'length_119': 4,\n",
       " 'length_120': 4,\n",
       " 'length_121': 4,\n",
       " 'length_122': 4,\n",
       " 'length_123': 4,\n",
       " 'length_124': 4,\n",
       " 'length_125': 4,\n",
       " 'length_126': 4,\n",
       " 'length_127': 4,\n",
       " 'length_128': 4,\n",
       " 'length_129': 4,\n",
       " 'length_131': 4,\n",
       " 'length_132': 4,\n",
       " 'length_133': 4,\n",
       " 'length_134': 4,\n",
       " 'length_135': 4,\n",
       " 'length_136': 4,\n",
       " 'length_138': 4,\n",
       " 'length_139': 4,\n",
       " 'length_140': 4,\n",
       " 'length_141': 4,\n",
       " 'length_142': 4,\n",
       " 'length_143': 4,\n",
       " 'length_144': 4,\n",
       " 'length_145': 4,\n",
       " 'length_146': 4,\n",
       " 'length_147': 4,\n",
       " 'length_148': 4,\n",
       " 'length_149': 4,\n",
       " 'length_150': 4,\n",
       " 'length_151': 4,\n",
       " 'length_152': 4,\n",
       " 'length_153': 4,\n",
       " 'length_154': 4,\n",
       " 'length_155': 4,\n",
       " 'length_156': 4,\n",
       " 'length_157': 4,\n",
       " 'length_158': 4,\n",
       " 'length_159': 4,\n",
       " 'length_160': 4,\n",
       " 'length_161': 4,\n",
       " 'length_162': 4,\n",
       " 'length_163': 4,\n",
       " 'length_165': 4,\n",
       " 'length_167': 3,\n",
       " 'length_168': 4,\n",
       " 'length_169': 4,\n",
       " 'length_170': 4,\n",
       " 'length_171': 4,\n",
       " 'length_172': 4,\n",
       " 'length_173': 4,\n",
       " 'length_174': 4,\n",
       " 'length_175': 4,\n",
       " 'length_176': 4,\n",
       " 'length_177': 4,\n",
       " 'length_178': 4,\n",
       " 'length_179': 4,\n",
       " 'length_180': 4,\n",
       " 'length_181': 4,\n",
       " 'length_182': 4,\n",
       " 'length_183': 4,\n",
       " 'length_184': 4,\n",
       " 'length_185': 4,\n",
       " 'length_186': 4,\n",
       " 'length_187': 4,\n",
       " 'length_188': 4,\n",
       " 'length_189': 4,\n",
       " 'length_191': 4,\n",
       " 'length_192': 4,\n",
       " 'length_193': 4,\n",
       " 'length_194': 4,\n",
       " 'length_195': 4,\n",
       " 'length_196': 4,\n",
       " 'length_197': 4,\n",
       " 'length_198': 4,\n",
       " 'length_199': 4,\n",
       " 'length_200': 4,\n",
       " 'length_201': 4,\n",
       " 'length_202': 4,\n",
       " 'length_203': 4,\n",
       " 'length_204': 4,\n",
       " 'length_205': 4,\n",
       " 'length_206': 4,\n",
       " 'length_207': 4,\n",
       " 'length_208': 4,\n",
       " 'length_209': 4,\n",
       " 'length_210': 4,\n",
       " 'length_211': 4,\n",
       " 'length_212': 4,\n",
       " 'length_213': 4,\n",
       " 'length_214': 4,\n",
       " 'length_215': 4,\n",
       " 'length_216': 4,\n",
       " 'length_217': 4,\n",
       " 'length_218': 4,\n",
       " 'length_219': 4,\n",
       " 'length_220': 4,\n",
       " 'length_221': 4,\n",
       " 'length_222': 4,\n",
       " 'length_223': 4,\n",
       " 'length_224': 4,\n",
       " 'length_225': 4,\n",
       " 'length_226': 4,\n",
       " 'length_227': 4,\n",
       " 'length_228': 4,\n",
       " 'length_229': 4,\n",
       " 'length_230': 4,\n",
       " 'length_231': 4,\n",
       " 'length_232': 4,\n",
       " 'length_234': 4,\n",
       " 'length_235': 4,\n",
       " 'length_236': 4,\n",
       " 'length_237': 4,\n",
       " 'length_238': 4,\n",
       " 'length_239': 4,\n",
       " 'length_240': 4,\n",
       " 'length_241': 4,\n",
       " 'length_242': 4,\n",
       " 'length_243': 4,\n",
       " 'length_244': 4,\n",
       " 'length_245': 4,\n",
       " 'length_246': 4,\n",
       " 'length_247': 4,\n",
       " 'length_248': 4,\n",
       " 'length_249': 4,\n",
       " 'length_250': 4,\n",
       " 'length_251': 4,\n",
       " 'length_252': 4,\n",
       " 'length_253': 4,\n",
       " 'length_254': 4,\n",
       " 'length_255': 4,\n",
       " 'length_256': 4,\n",
       " 'length_257': 4,\n",
       " 'length_258': 4,\n",
       " 'length_259': 4,\n",
       " 'length_260': 4,\n",
       " 'length_261': 4,\n",
       " 'length_262': 4,\n",
       " 'length_263': 4,\n",
       " 'length_264': 4,\n",
       " 'length_265': 4,\n",
       " 'length_266': 4,\n",
       " 'length_267': 4,\n",
       " 'length_268': 4,\n",
       " 'length_269': 4,\n",
       " 'length_270': 4,\n",
       " 'length_271': 4,\n",
       " 'length_272': 4,\n",
       " 'length_273': 4,\n",
       " 'length_274': 4,\n",
       " 'length_275': 4,\n",
       " 'length_276': 4,\n",
       " 'length_277': 4,\n",
       " 'length_278': 4,\n",
       " 'length_280': 3,\n",
       " 'length_281': 3,\n",
       " 'length_282': 4,\n",
       " 'length_283': 4,\n",
       " 'length_284': 4,\n",
       " 'length_285': 4,\n",
       " 'length_286': 4,\n",
       " 'length_287': 4,\n",
       " 'length_288': 3,\n",
       " 'length_289': 4,\n",
       " 'length_291': 4,\n",
       " 'length_292': 4,\n",
       " 'length_293': 4,\n",
       " 'length_294': 4,\n",
       " 'length_295': 4,\n",
       " 'length_296': 4,\n",
       " 'length_297': 4,\n",
       " 'length_298': 4,\n",
       " 'length_299': 4,\n",
       " 'length_300': 4,\n",
       " 'length_301': 4,\n",
       " 'length_302': 4,\n",
       " 'length_303': 4,\n",
       " 'length_304': 4,\n",
       " 'length_305': 4,\n",
       " 'length_306': 4,\n",
       " 'length_307': 4,\n",
       " 'length_308': 4,\n",
       " 'length_309': 4,\n",
       " 'length_310': 4,\n",
       " 'length_311': 4,\n",
       " 'length_312': 4,\n",
       " 'length_313': 4,\n",
       " 'length_314': 4,\n",
       " 'length_315': 4,\n",
       " 'length_316': 4,\n",
       " 'length_317': 4,\n",
       " 'length_318': 4,\n",
       " 'length_319': 4,\n",
       " 'length_320': 4,\n",
       " 'length_321': 4,\n",
       " 'length_322': 4,\n",
       " 'length_323': 4,\n",
       " 'length_324': 4,\n",
       " 'length_325': 4,\n",
       " 'length_326': 4,\n",
       " 'length_327': 4,\n",
       " 'length_328': 4,\n",
       " 'length_329': 4,\n",
       " 'length_330': 4,\n",
       " 'length_331': 4,\n",
       " 'length_332': 4,\n",
       " 'length_333': 4,\n",
       " 'length_334': 4,\n",
       " 'length_336': 4,\n",
       " 'length_337': 4,\n",
       " 'length_338': 4,\n",
       " 'length_339': 4,\n",
       " 'length_340': 4,\n",
       " 'length_342': 4,\n",
       " 'length_344': 4,\n",
       " 'length_346': 4,\n",
       " 'length_347': 4,\n",
       " 'length_348': 4,\n",
       " 'length_349': 4,\n",
       " 'length_350': 4,\n",
       " 'length_351': 4,\n",
       " 'length_352': 4,\n",
       " 'length_353': 4,\n",
       " 'length_354': 4,\n",
       " 'length_355': 4,\n",
       " 'length_356': 4,\n",
       " 'length_357': 4,\n",
       " 'length_358': 4,\n",
       " 'length_359': 4,\n",
       " 'length_360': 4,\n",
       " 'length_361': 4,\n",
       " 'length_362': 4,\n",
       " 'length_363': 4,\n",
       " 'length_364': 4,\n",
       " 'length_365': 4,\n",
       " 'length_366': 4,\n",
       " 'length_367': 4,\n",
       " 'length_368': 4,\n",
       " 'length_369': 4,\n",
       " 'length_370': 4,\n",
       " 'length_371': 4,\n",
       " 'length_372': 4,\n",
       " 'length_373': 4,\n",
       " 'length_374': 4,\n",
       " 'length_375': 4,\n",
       " 'length_376': 4,\n",
       " 'length_377': 4,\n",
       " 'length_378': 4,\n",
       " 'length_379': 4,\n",
       " 'length_380': 4,\n",
       " 'length_381': 4,\n",
       " 'length_382': 4,\n",
       " 'length_383': 4,\n",
       " 'length_384': 4,\n",
       " 'length_385': 4,\n",
       " 'length_386': 4,\n",
       " 'length_387': 4,\n",
       " 'length_388': 4,\n",
       " 'length_389': 4,\n",
       " 'length_391': 4,\n",
       " 'length_392': 4,\n",
       " 'length_393': 4,\n",
       " 'length_394': 4,\n",
       " 'length_395': 4,\n",
       " 'length_396': 4,\n",
       " 'length_397': 4,\n",
       " 'length_398': 4,\n",
       " 'length_399': 4,\n",
       " 'length_400': 4,\n",
       " 'length_55': 3,\n",
       " 'length_81': 3,\n",
       " 'length_130': 3,\n",
       " 'length_137': 3,\n",
       " 'length_164': 3,\n",
       " 'length_166': 2,\n",
       " 'length_190': 3,\n",
       " 'length_233': 3,\n",
       " 'length_279': 3,\n",
       " 'length_290': 2,\n",
       " 'length_335': 3,\n",
       " 'length_341': 2,\n",
       " 'length_343': 3,\n",
       " 'length_345': 3,\n",
       " 'length_390': 3}"
      ]
     },
     "execution_count": 18,
     "metadata": {},
     "output_type": "execute_result"
    }
   ],
   "source": [
    "\n",
    "removables = {}\n",
    "\n",
    "def update_to_remove(insignificant_features):\n",
    "    for feature in insignificant_features:\n",
    "        if feature not in removables:\n",
    "            removables[feature] = 0\n",
    "        removables[feature] += 1\n",
    "    return removables\n",
    "\n",
    "update_to_remove(insignificant_features_1)\n",
    "update_to_remove(insignificant_features_2)\n",
    "update_to_remove(insignificant_features_3)\n",
    "update_to_remove(insignificant_features_4)"
   ]
  },
  {
   "cell_type": "markdown",
   "metadata": {},
   "source": [
    "Find how many appearences the features appear in insiginficant features\n"
   ]
  },
  {
   "cell_type": "code",
   "execution_count": 19,
   "metadata": {},
   "outputs": [
    {
     "name": "stdout",
     "output_type": "stream",
     "text": [
      "350\n",
      "346\n",
      "327\n"
     ]
    }
   ],
   "source": [
    "drops_2 = []\n",
    "drops_3 = []\n",
    "drops_4 = []\n",
    "\n",
    "for feature in removables:\n",
    "    if removables[feature] >= 2:\n",
    "        drops_2.append(feature)\n",
    "    if removables[feature] >= 3:\n",
    "        drops_3.append(feature)\n",
    "    if removables[feature] >= 4:\n",
    "        drops_4.append(feature)\n",
    "\n",
    "print(len(drops_2)) # 350 variables removed # 09 variables preserved\n",
    "print(len(drops_3)) # 346 variables removed # 4 variables preserved\n",
    "print(len(drops_4)) # 327 variables remnoved # 23 variables preserved, Most optimal number of features to be preserved"
   ]
  },
  {
   "cell_type": "markdown",
   "metadata": {},
   "source": [
    "Update data set by removing features in drop 3"
   ]
  },
  {
   "cell_type": "code",
   "execution_count": 20,
   "metadata": {},
   "outputs": [
    {
     "name": "stdout",
     "output_type": "stream",
     "text": [
      "(2193, 23)\n",
      "(1034, 23)\n"
     ]
    }
   ],
   "source": [
    "### features in drops4 removed from train data set\n",
    "xvals_train_filtered = xvals_train.drop(columns=drops_4)\n",
    "print(xvals_train_filtered.shape)\n",
    "\n",
    "### features in drops4 removed from test data set\n",
    "xvals_test_filtered = xvals_test.drop(columns=drops_4)\n",
    "print(xvals_test_filtered.shape)\n",
    "\n",
    "# xvals_train_filtered to be used as dependent variables used to build the model\n",
    "# xvals_test_filtered to be used as dependent variables used to build the model\n",
    "\n",
    "# xvals_train_std are the standardised dependent values\n",
    "# xvals_test_std are the standardised dependent values\n",
    "\n",
    "# yvals_train_binary are the binary values for the response variable\n",
    "# yvals_test_binary are the binary values for the response variable\n",
    "\n",
    "### oriignal data\n",
    "# xvals_train is the train set dependent variables\n",
    "# xvals_test is the test set dependent variables\n",
    "# yvals_train is the train set independent variables\n",
    "# yvals_test is the test set independent variables\n",
    "\n",
    "\n",
    "\n"
   ]
  },
  {
   "cell_type": "code",
   "execution_count": null,
   "metadata": {},
   "outputs": [],
   "source": []
  }
 ],
 "metadata": {
  "kernelspec": {
   "display_name": "Python 3",
   "language": "python",
   "name": "python3"
  },
  "language_info": {
   "codemirror_mode": {
    "name": "ipython",
    "version": 3
   },
   "file_extension": ".py",
   "mimetype": "text/x-python",
   "name": "python",
   "nbconvert_exporter": "python",
   "pygments_lexer": "ipython3",
   "version": "3.12.2"
  }
 },
 "nbformat": 4,
 "nbformat_minor": 2
}
