{
 "cells": [
  {
   "cell_type": "code",
   "execution_count": 35,
   "metadata": {},
   "outputs": [
    {
     "name": "stderr",
     "output_type": "stream",
     "text": [
      "C:\\Users\\haris\\AppData\\Local\\Temp\\ipykernel_23396\\3899946861.py:11: FutureWarning: Downcasting behavior in `replace` is deprecated and will be removed in a future version. To retain the old behavior, explicitly call `result.infer_objects(copy=False)`. To opt-in to the future behavior, set `pd.set_option('future.no_silent_downcasting', True)`\n",
      "  train['class_label'] = train['class_label'].replace(['healthy', 'early stage cancer', 'screening stage cancer', 'mid stage cancer', 'late stage cancer'], [0, 1, 1, 1, 1])\n",
      "C:\\Users\\haris\\AppData\\Local\\Temp\\ipykernel_23396\\3899946861.py:16: FutureWarning: Downcasting behavior in `replace` is deprecated and will be removed in a future version. To retain the old behavior, explicitly call `result.infer_objects(copy=False)`. To opt-in to the future behavior, set `pd.set_option('future.no_silent_downcasting', True)`\n",
      "  test['class_label'] = test['class_label'].replace(['healthy', 'early stage cancer', 'screening stage cancer', 'mid stage cancer', 'late stage cancer'], [0, 1, 1, 1, 1])\n"
     ]
    },
    {
     "name": "stdout",
     "output_type": "stream",
     "text": [
      "Best n_neighbors: 6\n",
      "Mean accuracy: 0.694927536231884\n",
      "Standard deviation of accuracy: 0.054859906359488946\n",
      "              precision    recall  f1-score   support\n",
      "\n",
      "           0       0.67      0.88      0.76        40\n",
      "           1       0.82      0.57      0.68        40\n",
      "\n",
      "    accuracy                           0.72        80\n",
      "   macro avg       0.75      0.72      0.72        80\n",
      "weighted avg       0.75      0.72      0.72        80\n",
      "\n"
     ]
    }
   ],
   "source": [
    "import matplotlib.pyplot as plt\n",
    "import numpy as np\n",
    "import pandas as pd\n",
    "from sklearn.neighbors import KNeighborsClassifier\n",
    "from sklearn.model_selection import cross_val_score, GridSearchCV\n",
    "from sklearn.metrics import classification_report\n",
    "from imblearn.under_sampling import RandomUnderSampler\n",
    "\n",
    "train = pd.read_csv('Train_Set.csv') #, delimiter=',', dtype=None, encoding=None )\n",
    "\n",
    "train['class_label'] = train['class_label'].replace(['healthy', 'early stage cancer', 'screening stage cancer', 'mid stage cancer', 'late stage cancer'], [0, 1, 1, 1, 1])\n",
    "train_x = train.iloc[1:,:-1]\n",
    "train_y = train.iloc[1:,-1]\n",
    "\n",
    "test = pd.read_csv('Test_Set.csv') #, delimiter = ',', dtype = None, encoding = None)\n",
    "test['class_label'] = test['class_label'].replace(['healthy', 'early stage cancer', 'screening stage cancer', 'mid stage cancer', 'late stage cancer'], [0, 1, 1, 1, 1])\n",
    "test_x = test.iloc[1:,:-1 ]\n",
    "test_y = test.iloc[1:,-1]\n",
    "\n",
    "\n",
    "undersample = RandomUnderSampler(sampling_strategy = 1)\n",
    "\n",
    "train_x , train_y = undersample.fit_resample(train_x, train_y)\n",
    "test_x, test_y = undersample.fit_resample(test_x, test_y)\n",
    "\n",
    "n_folds_range = range(2, 59)\n",
    "\n",
    "param_grid = {'n_neighbors': range(1, 21)}\n",
    "grid_search = GridSearchCV(estimator=KNeighborsClassifier(), param_grid=param_grid, cv=5, scoring='accuracy')\n",
    "grid_search.fit(train_x, train_y)\n",
    "\n",
    "best_n_neighbors = grid_search.best_params_['n_neighbors']\n",
    "\n",
    "#n_folds = 50\n",
    "knn = KNeighborsClassifier(n_neighbors=best_n_neighbors)\n",
    "knn.fit(train_x, train_y)\n",
    "\n",
    "#knn.fit(train_x, train_y)\n",
    "scores = cross_val_score(knn, train_x, train_y, cv= 5)\n",
    "\n",
    "\n",
    "y_pred = knn.predict(test_x)\n",
    "\n",
    "\n",
    "mean_accuracy = scores.mean()\n",
    "std_accuracy = scores.std()\n",
    "print(\"Best n_neighbors:\", best_n_neighbors)\n",
    "print(\"Mean accuracy:\", mean_accuracy)\n",
    "print(\"Standard deviation of accuracy:\", std_accuracy)\n",
    "print(classification_report(test_y, y_pred))"
   ]
  }
 ],
 "metadata": {
  "kernelspec": {
   "display_name": "Python 3",
   "language": "python",
   "name": "python3"
  },
  "language_info": {
   "codemirror_mode": {
    "name": "ipython",
    "version": 3
   },
   "file_extension": ".py",
   "mimetype": "text/x-python",
   "name": "python",
   "nbconvert_exporter": "python",
   "pygments_lexer": "ipython3",
   "version": "3.12.1"
  }
 },
 "nbformat": 4,
 "nbformat_minor": 2
}
