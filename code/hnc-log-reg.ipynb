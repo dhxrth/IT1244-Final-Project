{
 "cells": [
  {
   "cell_type": "markdown",
   "metadata": {},
   "source": [
    "The training dataset is opened as a Pandas Dataframe. "
   ]
  },
  {
   "cell_type": "code",
   "execution_count": 1,
   "metadata": {},
   "outputs": [],
   "source": [
    "import pandas as pd\n",
    "import matplotlib.pyplot as plt\n",
    "import numpy as np\n",
    "from sklearn.linear_model import LogisticRegression\n",
    "from sklearn.metrics import classification_report, confusion_matrix\n",
    "from imblearn.under_sampling import RandomUnderSampler\n",
    "train_data = pd.read_csv('Train_Set.csv')"
   ]
  },
  {
   "cell_type": "markdown",
   "metadata": {},
   "source": [
    "The dependent variables are split into 2 categories, healthy and any form of cancer. Healthy outputs are renamed as 0 and the rest as 1. However, the proportion of the training data which represents the healthy population is severely outmatched by the proportion that represents the sample population with cancer. This may affect the model such that the accuracy and precision of the model is overinflated."
   ]
  },
  {
   "cell_type": "code",
   "execution_count": 2,
   "metadata": {},
   "outputs": [
    {
     "name": "stderr",
     "output_type": "stream",
     "text": [
      "/tmp/ipykernel_6150/1764513778.py:1: FutureWarning: Downcasting behavior in `replace` is deprecated and will be removed in a future version. To retain the old behavior, explicitly call `result.infer_objects(copy=False)`. To opt-in to the future behavior, set `pd.set_option('future.no_silent_downcasting', True)`\n",
      "  train_data['class_label'] = train_data['class_label'].replace(['healthy', 'early stage cancer', 'screening stage cancer', 'mid stage cancer', 'late stage cancer'], [0, 1, 1, 1, 1])\n"
     ]
    }
   ],
   "source": [
    "train_data['class_label'] = train_data['class_label'].replace(['healthy', 'early stage cancer', 'screening stage cancer', 'mid stage cancer', 'late stage cancer'], [0, 1, 1, 1, 1])"
   ]
  },
  {
   "cell_type": "markdown",
   "metadata": {},
   "source": [
    "The RandomUnderSampler from the 'imblearn' package is used to randomly undersample the majority class, which is the proportion of the population with the cancer, such that the ratio of healthy to cancer is 1:1. Logistic Regression model is initialised."
   ]
  },
  {
   "cell_type": "code",
   "execution_count": 3,
   "metadata": {},
   "outputs": [
    {
     "data": {
      "text/plain": [
       "(array([[-2.31026869e-02, -2.41671700e-02, -2.47977511e-02,\n",
       "         -2.60006399e-02, -2.70068904e-02, -2.83784334e-02,\n",
       "         -2.84825001e-02, -2.73462121e-02, -2.33666489e-02,\n",
       "         -2.17674777e-02, -2.31958202e-02, -2.50389623e-02,\n",
       "         -2.39950322e-02, -2.49219185e-02, -2.55092351e-02,\n",
       "         -2.52030030e-02, -2.56102167e-02, -2.42518375e-02,\n",
       "         -2.16476340e-02, -1.69525441e-02, -1.61735659e-02,\n",
       "         -1.74607116e-02, -1.91489557e-02, -2.04136067e-02,\n",
       "         -1.93788303e-02, -2.24166093e-02, -2.45887219e-02,\n",
       "         -2.40448826e-02, -2.45167191e-02, -1.95379633e-02,\n",
       "         -1.68830639e-02, -2.14862064e-02, -2.04685981e-02,\n",
       "         -1.88425195e-02, -1.57786495e-02, -1.36261785e-02,\n",
       "         -1.28534158e-02, -1.31150395e-02, -1.16794587e-02,\n",
       "         -3.53569120e-03,  2.19576494e-03,  1.13123912e-03,\n",
       "         -2.29324214e-03,  1.01707616e-04, -1.60017177e-03,\n",
       "         -3.53878257e-03, -7.55993556e-03, -1.14258292e-02,\n",
       "         -1.52869245e-02, -1.00919889e-02,  3.10392629e-03,\n",
       "          1.05745316e-02,  9.05722155e-03,  5.97383275e-03,\n",
       "          6.22028397e-03,  9.08699706e-03,  8.81899326e-03,\n",
       "          9.34801199e-03,  1.14217956e-02,  1.69242067e-02,\n",
       "          2.69378756e-02,  3.63017811e-02,  3.33383279e-02,\n",
       "          2.65145949e-02,  2.86541463e-02,  3.23772426e-02,\n",
       "          3.51358516e-02,  3.69142275e-02,  3.75661095e-02,\n",
       "          4.28166373e-02,  5.83804635e-02,  7.34531594e-02,\n",
       "          7.89458419e-02,  8.84009535e-02,  1.07921209e-01,\n",
       "          1.34012571e-01,  1.60858666e-01,  1.79214296e-01,\n",
       "          1.90739215e-01,  2.04619667e-01,  2.29842895e-01,\n",
       "          2.56673023e-01,  2.63085729e-01,  2.71020054e-01,\n",
       "          2.76951598e-01,  2.77269056e-01,  2.77549173e-01,\n",
       "          2.69240812e-01,  2.37989975e-01,  2.04698938e-01,\n",
       "          1.78429996e-01,  1.81985204e-01,  2.14497359e-01,\n",
       "          2.35379208e-01,  2.43347180e-01,  2.54794155e-01,\n",
       "          2.63725473e-01,  2.69356915e-01,  2.55644957e-01,\n",
       "          2.40357097e-01,  1.95950014e-01,  1.48912680e-01,\n",
       "          1.25222916e-01,  1.25520277e-01,  1.22647787e-01,\n",
       "          1.04356627e-01,  7.80037462e-02,  6.41616089e-02,\n",
       "          3.49816085e-02,  5.50487016e-03, -4.55659408e-03,\n",
       "          2.13666009e-02,  2.75075605e-02,  5.40801324e-02,\n",
       "          1.04015653e-01,  8.67498987e-02,  2.20782516e-02,\n",
       "         -4.29734424e-02, -9.35911601e-02, -1.28953660e-01,\n",
       "         -1.27807603e-01, -1.27752315e-01, -1.20126810e-01,\n",
       "         -1.01067883e-01, -1.08979037e-01, -1.23676615e-01,\n",
       "         -1.39674309e-01, -1.44635212e-01, -1.47747031e-01,\n",
       "         -1.42836468e-01, -1.42629486e-01, -1.34400182e-01,\n",
       "         -1.24227338e-01, -1.14165664e-01, -1.14141061e-01,\n",
       "         -1.16483721e-01, -1.20594645e-01, -1.19759541e-01,\n",
       "         -1.21291195e-01, -1.20514250e-01, -1.06633330e-01,\n",
       "         -1.03234821e-01, -1.01552434e-01, -9.51310251e-02,\n",
       "         -8.44173283e-02, -8.56246414e-02, -8.94726110e-02,\n",
       "         -8.32412918e-02, -8.52535189e-02, -7.74088478e-02,\n",
       "         -6.66236186e-02, -6.36427052e-02, -5.86667238e-02,\n",
       "         -5.34922925e-02, -4.94490111e-02, -4.65451419e-02,\n",
       "         -4.30653971e-02, -4.27394577e-02, -4.07481930e-02,\n",
       "         -4.08303287e-02, -3.52566337e-02, -2.69298505e-02,\n",
       "         -2.55269391e-02, -2.63592796e-02, -2.33191384e-02,\n",
       "         -2.22256716e-02, -1.85628841e-02, -1.86687918e-02,\n",
       "         -1.57169751e-02, -1.21251777e-02, -8.27735619e-03,\n",
       "         -5.60998867e-03, -3.43558293e-03, -2.42945387e-03,\n",
       "         -2.51108603e-03, -1.41916370e-04, -2.97480659e-04,\n",
       "          2.31148523e-03,  5.15438014e-03,  8.46975002e-03,\n",
       "          1.03165649e-02,  1.30452422e-02,  1.44991555e-02,\n",
       "          1.43508854e-02,  1.51687960e-02,  1.64295322e-02,\n",
       "          1.69470715e-02,  1.84060227e-02,  1.89099331e-02,\n",
       "          2.08762302e-02,  2.52124702e-02,  2.56319518e-02,\n",
       "          2.64555147e-02,  2.63800736e-02,  2.59768217e-02,\n",
       "          2.57520727e-02,  2.61937064e-02,  2.81668525e-02,\n",
       "          2.52575885e-02,  3.05315598e-02,  3.34114400e-02,\n",
       "          3.58035782e-02,  3.85490881e-02,  3.87862391e-02,\n",
       "          3.69262289e-02,  3.50949841e-02,  3.39832822e-02,\n",
       "          3.42382983e-02,  3.51963925e-02,  3.78418042e-02,\n",
       "          4.11708457e-02,  4.57227467e-02,  4.97834916e-02,\n",
       "          5.12321916e-02,  5.08821353e-02,  5.04979520e-02,\n",
       "          4.73920754e-02,  4.84641618e-02,  4.92042093e-02,\n",
       "          4.95975318e-02,  5.34886472e-02,  5.68156217e-02,\n",
       "          6.15833563e-02,  6.16449770e-02,  6.30537734e-02,\n",
       "          6.39418106e-02,  6.44563648e-02,  6.43108848e-02,\n",
       "          6.70587590e-02,  6.99254495e-02,  7.11718116e-02,\n",
       "          7.13021210e-02,  7.27415639e-02,  7.34592836e-02,\n",
       "          7.26803188e-02,  7.27369111e-02,  7.62924047e-02,\n",
       "          7.77164088e-02,  7.99170259e-02,  8.38149596e-02,\n",
       "          8.59017391e-02,  8.49593751e-02,  8.42319861e-02,\n",
       "          8.45199833e-02,  8.23387740e-02,  8.37890644e-02,\n",
       "          8.52940396e-02,  8.95395489e-02,  9.33582418e-02,\n",
       "          9.25781948e-02,  9.06879360e-02,  8.95770257e-02,\n",
       "          8.68327566e-02,  8.97520099e-02,  8.62308668e-02,\n",
       "          8.42690952e-02,  8.43733680e-02,  8.16605773e-02,\n",
       "          7.77084625e-02,  7.11588035e-02,  6.73065024e-02,\n",
       "          6.48607421e-02,  5.89666539e-02,  5.43474044e-02,\n",
       "          4.86054077e-02,  4.17915889e-02,  3.76007912e-02,\n",
       "          3.03357864e-02,  2.71100853e-02,  1.96658079e-02,\n",
       "          1.42171209e-02,  1.24693186e-02,  4.51697406e-03,\n",
       "          1.88367894e-04, -3.59634937e-03, -1.18301996e-02,\n",
       "         -1.54493794e-02, -2.05762125e-02, -2.53366915e-02,\n",
       "         -2.92157857e-02, -3.29113660e-02, -3.54482513e-02,\n",
       "         -4.00281279e-02, -4.20105340e-02, -4.46747451e-02,\n",
       "         -4.87549809e-02, -4.84633915e-02, -5.05499206e-02,\n",
       "         -5.38307527e-02, -5.62831929e-02, -5.70852866e-02,\n",
       "         -6.00643988e-02, -6.24873907e-02, -6.30956294e-02,\n",
       "         -6.40785262e-02, -6.66986905e-02, -6.58750346e-02,\n",
       "         -6.75488716e-02, -6.93595111e-02, -7.08231711e-02,\n",
       "         -7.09888826e-02, -7.10502182e-02, -7.07917782e-02,\n",
       "         -6.97979484e-02, -6.99931048e-02, -7.14398851e-02,\n",
       "         -7.00190494e-02, -7.18196409e-02, -7.03262876e-02,\n",
       "         -7.14505389e-02, -7.14691071e-02, -7.05592828e-02,\n",
       "         -7.01747885e-02, -6.75274102e-02, -6.80124423e-02,\n",
       "         -6.52588255e-02, -6.40024278e-02, -6.37717281e-02,\n",
       "         -6.26115314e-02, -6.30031837e-02, -5.80978684e-02,\n",
       "         -5.83719937e-02, -5.70892123e-02, -5.63628777e-02,\n",
       "         -5.21054466e-02, -5.08933763e-02, -5.03693299e-02,\n",
       "         -4.72690504e-02, -4.53798833e-02, -4.43334904e-02,\n",
       "         -4.25762006e-02, -4.05662127e-02, -3.94174698e-02,\n",
       "         -3.69230740e-02, -3.54524266e-02, -3.25410844e-02,\n",
       "         -3.11698035e-02, -2.86785169e-02, -2.86949828e-02,\n",
       "         -2.72183313e-02, -2.56621240e-02, -2.43664098e-02,\n",
       "         -2.25119092e-02, -2.12196857e-02, -1.95075683e-02,\n",
       "         -1.79971267e-02, -1.65871766e-02, -1.50321543e-02,\n",
       "         -1.39781446e-02, -1.39355652e-02]]),\n",
       " array([0.04340808]))"
      ]
     },
     "execution_count": 3,
     "metadata": {},
     "output_type": "execute_result"
    }
   ],
   "source": [
    "undersample = RandomUnderSampler(sampling_strategy = 1)\n",
    "logreg_model = LogisticRegression(solver='liblinear', random_state = 0)\n",
    "x, y = train_data.iloc[:,:-1], train_data['class_label']\n",
    "X_over, y_over = undersample.fit_resample(x, y)\n",
    "logreg_model.fit(X_over, y_over)\n",
    "logreg_model.coef_, logreg_model.intercept_"
   ]
  },
  {
   "cell_type": "code",
   "execution_count": 4,
   "metadata": {},
   "outputs": [
    {
     "name": "stderr",
     "output_type": "stream",
     "text": [
      "/tmp/ipykernel_6150/984706822.py:2: FutureWarning: Downcasting behavior in `replace` is deprecated and will be removed in a future version. To retain the old behavior, explicitly call `result.infer_objects(copy=False)`. To opt-in to the future behavior, set `pd.set_option('future.no_silent_downcasting', True)`\n",
      "  test_data['class_label'] = test_data['class_label'].replace(['healthy', 'early stage cancer', 'screening stage cancer', 'mid stage cancer', 'late stage cancer'], [0, 1, 1, 1, 1])\n"
     ]
    }
   ],
   "source": [
    "test_data = pd.read_csv('Test_Set.csv')\n",
    "test_data['class_label'] = test_data['class_label'].replace(['healthy', 'early stage cancer', 'screening stage cancer', 'mid stage cancer', 'late stage cancer'], [0, 1, 1, 1, 1])\n",
    "testX, testY = test_data.iloc[:,:-1], test_data['class_label']\n",
    "testX_over, testY_over = undersample.fit_resample(testX, testY)"
   ]
  },
  {
   "cell_type": "markdown",
   "metadata": {},
   "source": [
    "The summary of the logistic regression model is as shown below."
   ]
  },
  {
   "cell_type": "code",
   "execution_count": 5,
   "metadata": {},
   "outputs": [
    {
     "name": "stdout",
     "output_type": "stream",
     "text": [
      "              precision    recall  f1-score   support\n",
      "\n",
      "           0       0.63      0.63      0.63        41\n",
      "           1       0.63      0.63      0.63        41\n",
      "\n",
      "    accuracy                           0.63        82\n",
      "   macro avg       0.63      0.63      0.63        82\n",
      "weighted avg       0.63      0.63      0.63        82\n",
      "\n"
     ]
    }
   ],
   "source": [
    "logreg_model.predict_proba(testX_over)\n",
    "logreg_model.score(testX_over, testY_over)\n",
    "confusion_matrix(testY_over, logreg_model.predict(testX_over))\n",
    "print(classification_report(testY_over, logreg_model.predict(testX_over)))"
   ]
  }
 ],
 "metadata": {
  "kernelspec": {
   "display_name": "Python 3",
   "language": "python",
   "name": "python3"
  },
  "language_info": {
   "codemirror_mode": {
    "name": "ipython",
    "version": 3
   },
   "file_extension": ".py",
   "mimetype": "text/x-python",
   "name": "python",
   "nbconvert_exporter": "python",
   "pygments_lexer": "ipython3",
   "version": "3.10.13"
  }
 },
 "nbformat": 4,
 "nbformat_minor": 2
}
